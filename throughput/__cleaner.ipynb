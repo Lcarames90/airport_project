{
 "cells": [
  {
   "cell_type": "code",
   "execution_count": 8,
   "id": "fd5b7734-6e52-4be3-8df8-ab3e9d064b33",
   "metadata": {},
   "outputs": [],
   "source": [
    "import pandas as pd\n",
    "import numpy as np\n",
    "import requests\n",
    "import datetime as dt "
   ]
  },
  {
   "cell_type": "code",
   "execution_count": 9,
   "id": "3d670733-f2ef-4d76-b641-967a8e218ef2",
   "metadata": {},
   "outputs": [],
   "source": [
    "# where all the data is going\n",
    "tput_dict = {}"
   ]
  },
  {
   "cell_type": "code",
   "execution_count": 10,
   "id": "20d6a04a-f469-4e54-8bd0-8c9bc878d943",
   "metadata": {
    "tags": []
   },
   "outputs": [],
   "source": [
    "airport_list = [\n",
    "    'ATL',\n",
    "    'AUS',\n",
    "    'BOI',\n",
    "    'BZN',\n",
    "    'DEN',\n",
    "    'DFW',\n",
    "    'FLL',\n",
    "    'LAS',\n",
    "    'LAX',\n",
    "    'MCO',\n",
    "    'MIA',\n",
    "    'MSO',\n",
    "    'PDX',\n",
    "    'PHX',\n",
    "    'SEA',\n",
    "    'SFO',\n",
    "    'SJC',\n",
    "    'TPA']"
   ]
  },
  {
   "cell_type": "code",
   "execution_count": 11,
   "id": "77098c78-49da-49c3-bb13-b19a17f08cf4",
   "metadata": {
    "tags": []
   },
   "outputs": [],
   "source": [
    "def cleaner(AIRPORT_CODE, file_handle):\n",
    "    file = pd.read_csv(file_handle)\n",
    "    for row in range(len(file)):\n",
    "        for column in range(2, (len(file.iloc[0]))):       \n",
    "            if file.isna().iloc[row, column]:\n",
    "                continue\n",
    "            elif AIRPORT_CODE in tput_dict:\n",
    "                tput_dict[AIRPORT_CODE]['date'].append(file.iloc[row, 0])\n",
    "                tput_dict[AIRPORT_CODE]['time'].append(file.iloc[row, 1])\n",
    "                tput_dict[AIRPORT_CODE]['airport'].append(AIRPORT_CODE)\n",
    "                tput_dict[AIRPORT_CODE]['passage'].append(file.columns[column])\n",
    "                tput_dict[AIRPORT_CODE]['throughput'].append(file.iloc[row,column])\n",
    "                \n",
    "            else:\n",
    "                tput_dict[AIRPORT_CODE] = {\n",
    "                                            'date':[],\n",
    "                                            'time':[],\n",
    "                                            'airport':[],\n",
    "                                            'passage':[],\n",
    "                                            'throughput':[]\n",
    "                                          }\n",
    "                \n",
    "                tput_dict[AIRPORT_CODE]['date'].append(file.iloc[row, 0])\n",
    "                tput_dict[AIRPORT_CODE]['time'].append(file.iloc[row, 1])\n",
    "                tput_dict[AIRPORT_CODE]['airport'].append(AIRPORT_CODE)\n",
    "                tput_dict[AIRPORT_CODE]['passage'].append(file.columns[column])\n",
    "                tput_dict[AIRPORT_CODE]['throughput'].append(file.iloc[row,column])\n",
    "                #[[file.columns[column],file.iloc[row, column]]]\n",
    "\n"
   ]
  },
  {
   "cell_type": "code",
   "execution_count": 12,
   "id": "929d5d2a-a285-41b0-af2b-68541d47942c",
   "metadata": {},
   "outputs": [
    {
     "ename": "SyntaxError",
     "evalue": "invalid syntax (4277163255.py, line 2)",
     "output_type": "error",
     "traceback": [
      "\u001b[1;36m  File \u001b[1;32m\"C:\\Users\\caram\\AppData\\Local\\Temp\\ipykernel_36120\\4277163255.py\"\u001b[1;36m, line \u001b[1;32m2\u001b[0m\n\u001b[1;33m    for key in tput_dict\u001b[0m\n\u001b[1;37m                        ^\u001b[0m\n\u001b[1;31mSyntaxError\u001b[0m\u001b[1;31m:\u001b[0m invalid syntax\n"
     ]
    }
   ],
   "source": [
    "def clean_files_out():\n",
    "    for key in tput_dict\n",
    "        df = pd.DataFrame(tput_dict[key])\n",
    "        df.to_csv('clean/'+ key +'.csv')"
   ]
  },
  {
   "cell_type": "code",
   "execution_count": null,
   "id": "58a2786b-564e-47c0-be45-b7f5ae3e3cf8",
   "metadata": {},
   "outputs": [],
   "source": [
    "cleaner(airport_   list"
   ]
  },
  {
   "cell_type": "code",
   "execution_count": null,
   "id": "4e2d90b7-3efd-43cd-bdab-95dc47994593",
   "metadata": {},
   "outputs": [],
   "source": [
    "df_tput = pd.DataFrame(tput_dict['ANC'])\n",
    "year = df_tput.iloc[0,0].dt.strftime('%U')\n",
    "year"
   ]
  },
  {
   "cell_type": "code",
   "execution_count": 69,
   "id": "3bd817cd-419f-4c66-922f-501f86410372",
   "metadata": {},
   "outputs": [],
   "source": [
    "# date dimension\n",
    "date_dict = {\n",
    "                'year':[],\n",
    "                'month':[],\n",
    "                'week':[],\n",
    "                'day_month':[],\n",
    "                'day_year':[],\n",
    "                'day_week':[],\n",
    "            }\n",
    "def gather_date(AIRPORT_CODE, date):\n",
    "    for row in tput_dict[AIRPORT_CODE][0]:\n",
    "        if tput_dict[AIRPORT_CODE][0] in date_dict\n",
    "    "
   ]
  },
  {
   "cell_type": "code",
   "execution_count": 79,
   "id": "94f6073c-3125-4a89-a6b4-66e39136670b",
   "metadata": {},
   "outputs": [],
   "source": [
    "# time dimension\n",
    "time_dict = {'hour':[]}"
   ]
  },
  {
   "cell_type": "code",
   "execution_count": null,
   "id": "9ed724f4-9b25-42f6-83be-4260e8b48cbd",
   "metadata": {},
   "outputs": [],
   "source": []
  },
  {
   "cell_type": "code",
   "execution_count": null,
   "id": "d3e1f903-60e3-4297-9e8b-a8b78f3fcc07",
   "metadata": {},
   "outputs": [],
   "source": []
  },
  {
   "cell_type": "code",
   "execution_count": null,
   "id": "8e5b56e0-4e27-4526-bb51-e49e830961b0",
   "metadata": {},
   "outputs": [],
   "source": []
  }
 ],
 "metadata": {
  "kernelspec": {
   "display_name": "Python 3 (ipykernel)",
   "language": "python",
   "name": "python3"
  },
  "language_info": {
   "codemirror_mode": {
    "name": "ipython",
    "version": 3
   },
   "file_extension": ".py",
   "mimetype": "text/x-python",
   "name": "python",
   "nbconvert_exporter": "python",
   "pygments_lexer": "ipython3",
   "version": "3.9.13"
  }
 },
 "nbformat": 4,
 "nbformat_minor": 5
}
